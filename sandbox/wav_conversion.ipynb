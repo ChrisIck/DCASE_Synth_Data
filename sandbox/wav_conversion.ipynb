{
 "cells": [
  {
   "cell_type": "code",
   "execution_count": 3,
   "id": "13b27afc-cdff-44cb-bddf-12dc71103f5d",
   "metadata": {},
   "outputs": [],
   "source": [
    "import numpy as np\n",
    "import h5py\n",
    "import os\n",
    "import re\n",
    "import soundfile as sf\n",
    "import glob\n",
    "import mat73\n"
   ]
  },
  {
   "cell_type": "code",
   "execution_count": 31,
   "id": "575367c3-ca98-47ab-a9af-9ec9cc8e6795",
   "metadata": {
    "collapsed": true,
    "jupyter": {
     "outputs_hidden": true
    },
    "tags": []
   },
   "outputs": [
    {
     "name": "stdout",
     "output_type": "stream",
     "text": [
      "Loading RIRs from bomb_shelter\n",
      "Converting /scratch/ci411/DCASE_GEN/sim_rirs/bomb_shelter/bomb_shelter_t0h0.hdf5\n",
      "Saving to /vast/ci411/DCASE_GEN/sim_rirs/bomb_shelter\n",
      "Converting /scratch/ci411/DCASE_GEN/sim_rirs/bomb_shelter/bomb_shelter_t0h1.hdf5\n",
      "Saving to /vast/ci411/DCASE_GEN/sim_rirs/bomb_shelter\n",
      "Converting /scratch/ci411/DCASE_GEN/sim_rirs/bomb_shelter/bomb_shelter_t0h2.hdf5\n",
      "Saving to /vast/ci411/DCASE_GEN/sim_rirs/bomb_shelter\n",
      "Converting /scratch/ci411/DCASE_GEN/sim_rirs/bomb_shelter/bomb_shelter_t0h3.hdf5\n",
      "Saving to /vast/ci411/DCASE_GEN/sim_rirs/bomb_shelter\n",
      "Converting /scratch/ci411/DCASE_GEN/sim_rirs/bomb_shelter/bomb_shelter_t0h4.hdf5\n",
      "Saving to /vast/ci411/DCASE_GEN/sim_rirs/bomb_shelter\n",
      "Converting /scratch/ci411/DCASE_GEN/sim_rirs/bomb_shelter/bomb_shelter_t0h5.hdf5\n",
      "Saving to /vast/ci411/DCASE_GEN/sim_rirs/bomb_shelter\n"
     ]
    },
    {
     "ename": "KeyboardInterrupt",
     "evalue": "",
     "output_type": "error",
     "traceback": [
      "\u001b[0;31m---------------------------------------------------------------------------\u001b[0m",
      "\u001b[0;31mKeyboardInterrupt\u001b[0m                         Traceback (most recent call last)",
      "Input \u001b[0;32mIn [31]\u001b[0m, in \u001b[0;36m<cell line: 16>\u001b[0;34m()\u001b[0m\n\u001b[1;32m     36\u001b[0m \u001b[38;5;28;01mfor\u001b[39;00m i, rir \u001b[38;5;129;01min\u001b[39;00m \u001b[38;5;28menumerate\u001b[39m(loaded_rirs):\n\u001b[1;32m     37\u001b[0m     rir_outpath \u001b[38;5;241m=\u001b[39m os\u001b[38;5;241m.\u001b[39mpath\u001b[38;5;241m.\u001b[39mjoin(out_rir_path, file\u001b[38;5;241m.\u001b[39msplit(\u001b[38;5;124m'\u001b[39m\u001b[38;5;124m.\u001b[39m\u001b[38;5;124m'\u001b[39m)[\u001b[38;5;241m0\u001b[39m]\u001b[38;5;241m+\u001b[39m\u001b[38;5;124mf\u001b[39m\u001b[38;5;124m\"\u001b[39m\u001b[38;5;124mi\u001b[39m\u001b[38;5;132;01m{\u001b[39;00mi\u001b[38;5;132;01m:\u001b[39;00m\u001b[38;5;124m03\u001b[39m\u001b[38;5;132;01m}\u001b[39;00m\u001b[38;5;124m\"\u001b[39m\u001b[38;5;241m+\u001b[39m\u001b[38;5;124m'\u001b[39m\u001b[38;5;124m.wav\u001b[39m\u001b[38;5;124m'\u001b[39m)\n\u001b[0;32m---> 38\u001b[0m     \u001b[43msf\u001b[49m\u001b[38;5;241;43m.\u001b[39;49m\u001b[43mwrite\u001b[49m\u001b[43m(\u001b[49m\u001b[43mrir_outpath\u001b[49m\u001b[43m,\u001b[49m\u001b[43m \u001b[49m\u001b[43mrir\u001b[49m\u001b[43m,\u001b[49m\u001b[43m \u001b[49m\u001b[43msr\u001b[49m\u001b[43m)\u001b[49m\n",
      "File \u001b[0;32m/scratch/ci411/.conda/envs/s3d_env/lib/python3.8/site-packages/soundfile.py:316\u001b[0m, in \u001b[0;36mwrite\u001b[0;34m(file, data, samplerate, subtype, endian, format, closefd)\u001b[0m\n\u001b[1;32m    313\u001b[0m     channels \u001b[38;5;241m=\u001b[39m data\u001b[38;5;241m.\u001b[39mshape[\u001b[38;5;241m1\u001b[39m]\n\u001b[1;32m    314\u001b[0m \u001b[38;5;28;01mwith\u001b[39;00m SoundFile(file, \u001b[38;5;124m'\u001b[39m\u001b[38;5;124mw\u001b[39m\u001b[38;5;124m'\u001b[39m, samplerate, channels,\n\u001b[1;32m    315\u001b[0m                subtype, endian, \u001b[38;5;28mformat\u001b[39m, closefd) \u001b[38;5;28;01mas\u001b[39;00m f:\n\u001b[0;32m--> 316\u001b[0m     f\u001b[38;5;241m.\u001b[39mwrite(data)\n",
      "File \u001b[0;32m/scratch/ci411/.conda/envs/s3d_env/lib/python3.8/site-packages/soundfile.py:694\u001b[0m, in \u001b[0;36mSoundFile.__exit__\u001b[0;34m(self, *args)\u001b[0m\n\u001b[1;32m    693\u001b[0m \u001b[38;5;28;01mdef\u001b[39;00m \u001b[38;5;21m__exit__\u001b[39m(\u001b[38;5;28mself\u001b[39m, \u001b[38;5;241m*\u001b[39margs):\n\u001b[0;32m--> 694\u001b[0m     \u001b[38;5;28;43mself\u001b[39;49m\u001b[38;5;241;43m.\u001b[39;49m\u001b[43mclose\u001b[49m\u001b[43m(\u001b[49m\u001b[43m)\u001b[49m\n",
      "File \u001b[0;32m/scratch/ci411/.conda/envs/s3d_env/lib/python3.8/site-packages/soundfile.py:1155\u001b[0m, in \u001b[0;36mSoundFile.close\u001b[0;34m(self)\u001b[0m\n\u001b[1;32m   1152\u001b[0m \u001b[38;5;124;03m\"\"\"Close the file.  Can be called multiple times.\"\"\"\u001b[39;00m\n\u001b[1;32m   1153\u001b[0m \u001b[38;5;28;01mif\u001b[39;00m \u001b[38;5;129;01mnot\u001b[39;00m \u001b[38;5;28mself\u001b[39m\u001b[38;5;241m.\u001b[39mclosed:\n\u001b[1;32m   1154\u001b[0m     \u001b[38;5;66;03m# be sure to flush data to disk before closing the file\u001b[39;00m\n\u001b[0;32m-> 1155\u001b[0m     \u001b[38;5;28;43mself\u001b[39;49m\u001b[38;5;241;43m.\u001b[39;49m\u001b[43mflush\u001b[49m\u001b[43m(\u001b[49m\u001b[43m)\u001b[49m\n\u001b[1;32m   1156\u001b[0m     err \u001b[38;5;241m=\u001b[39m _snd\u001b[38;5;241m.\u001b[39msf_close(\u001b[38;5;28mself\u001b[39m\u001b[38;5;241m.\u001b[39m_file)\n\u001b[1;32m   1157\u001b[0m     \u001b[38;5;28mself\u001b[39m\u001b[38;5;241m.\u001b[39m_file \u001b[38;5;241m=\u001b[39m \u001b[38;5;28;01mNone\u001b[39;00m\n",
      "File \u001b[0;32m/scratch/ci411/.conda/envs/s3d_env/lib/python3.8/site-packages/soundfile.py:1149\u001b[0m, in \u001b[0;36mSoundFile.flush\u001b[0;34m(self)\u001b[0m\n\u001b[1;32m   1138\u001b[0m \u001b[38;5;124;03m\"\"\"Write unwritten data to the file system.\u001b[39;00m\n\u001b[1;32m   1139\u001b[0m \n\u001b[1;32m   1140\u001b[0m \u001b[38;5;124;03mData written with :meth:`.write` is not immediately written to\u001b[39;00m\n\u001b[0;32m   (...)\u001b[0m\n\u001b[1;32m   1146\u001b[0m \n\u001b[1;32m   1147\u001b[0m \u001b[38;5;124;03m\"\"\"\u001b[39;00m\n\u001b[1;32m   1148\u001b[0m \u001b[38;5;28mself\u001b[39m\u001b[38;5;241m.\u001b[39m_check_if_closed()\n\u001b[0;32m-> 1149\u001b[0m \u001b[43m_snd\u001b[49m\u001b[38;5;241;43m.\u001b[39;49m\u001b[43msf_write_sync\u001b[49m\u001b[43m(\u001b[49m\u001b[38;5;28;43mself\u001b[39;49m\u001b[38;5;241;43m.\u001b[39;49m\u001b[43m_file\u001b[49m\u001b[43m)\u001b[49m\n",
      "\u001b[0;31mKeyboardInterrupt\u001b[0m: "
     ]
    }
   ],
   "source": [
    "room_list = [\"bomb_shelter\",\n",
    "             \"gym\",\n",
    "             \"pb132\",\n",
    "             \"pc226\",\n",
    "             \"sa203\",\n",
    "             \"sc203\",\n",
    "             \"se203\",\n",
    "             \"tb103\",\n",
    "             \"tc352\"]\n",
    "\n",
    "sim_rir_path = '/scratch/ci411/DCASE_GEN/sim_rirs/'\n",
    "out_rir_dir_path = '/scratch/ci411/DCASE_GEN/sim_rirs/'#'/vast/ci411/DCASE_GEN/sim_rirs/', will fix when i have vast approval\n",
    "\n",
    "sr = 24000\n",
    "\n",
    "for room in room_list:\n",
    "    room_path = os.path.join(sim_rir_path, room)\n",
    "    files = glob.glob(os.path.join(room_path, \"*.hdf5\"))\n",
    "    files.sort()\n",
    "    n_trajs, n_heights, _ = re.findall(r'\\d+', files[-1].split('_')[-1])\n",
    "    n_trajs = int(n_trajs)+1\n",
    "    n_heights = int(n_heights)+1\n",
    "    path_list = [[np.nan for j in range (n_heights)] for i in range(n_trajs)]\n",
    "    print(\"Loading RIRs from {}\".format(room))\n",
    "    for file in files:\n",
    "        print(\"Converting {}\".format(file))\n",
    "        filepath = os.path.join(room_path, file)\n",
    "        with h5py.File(filepath, 'r+') as f:\n",
    "            loaded_rirs = f['rirs'][()]\n",
    "        loaded_rirs = np.moveaxis(loaded_rirs, [0,1,2],[2,0,1])\n",
    "        \n",
    "        out_rir_path = os.path.join(out_rir_dir_path, room)\n",
    "        if not os.path.exists(out_rir_path):\n",
    "            os.makedirs(out_rir_path)\n",
    "        print(\"Saving to {}\".format(out_rir_path))\n",
    "        for i, rir in enumerate(loaded_rirs):\n",
    "            rir_outpath = os.path.join(out_rir_path, file.split('.')[0]+f\"i{i:03}\"+'.wav')\n",
    "            #sf.write(rir_outpath, rir, sr)"
   ]
  },
  {
   "cell_type": "code",
   "execution_count": 4,
   "id": "bc90f465-e9a2-42b8-9c91-d80ab626e173",
   "metadata": {
    "collapsed": true,
    "jupyter": {
     "outputs_hidden": true
    },
    "tags": []
   },
   "outputs": [
    {
     "name": "stdout",
     "output_type": "stream",
     "text": [
      "Loading from /scratch/ci411/TAU_SRIR_DB/TAU-SRIR_DB/rirs_01_bomb_shelter.mat\n"
     ]
    },
    {
     "ename": "KeyboardInterrupt",
     "evalue": "",
     "output_type": "error",
     "traceback": [
      "\u001b[0;31m---------------------------------------------------------------------------\u001b[0m",
      "\u001b[0;31mKeyboardInterrupt\u001b[0m                         Traceback (most recent call last)",
      "Input \u001b[0;32mIn [4]\u001b[0m, in \u001b[0;36m<cell line: 8>\u001b[0;34m()\u001b[0m\n\u001b[1;32m      8\u001b[0m \u001b[38;5;28;01mfor\u001b[39;00m room_idx, tau_file \u001b[38;5;129;01min\u001b[39;00m \u001b[38;5;28menumerate\u001b[39m(tau_files):\n\u001b[1;32m      9\u001b[0m     \u001b[38;5;28mprint\u001b[39m(\u001b[38;5;124mf\u001b[39m\u001b[38;5;124m\"\u001b[39m\u001b[38;5;124mLoading from \u001b[39m\u001b[38;5;132;01m{\u001b[39;00mtau_file\u001b[38;5;132;01m}\u001b[39;00m\u001b[38;5;124m\"\u001b[39m)\n\u001b[0;32m---> 10\u001b[0m     rirs_loaded \u001b[38;5;241m=\u001b[39m \u001b[43mmat73\u001b[49m\u001b[38;5;241;43m.\u001b[39;49m\u001b[43mloadmat\u001b[49m\u001b[43m(\u001b[49m\u001b[43mtau_file\u001b[49m\u001b[43m)\u001b[49m\n\u001b[1;32m     11\u001b[0m     room \u001b[38;5;241m=\u001b[39m room_list[room_idx]\n\u001b[1;32m     12\u001b[0m     \u001b[38;5;28mprint\u001b[39m(\u001b[38;5;124mf\u001b[39m\u001b[38;5;124m\"\u001b[39m\u001b[38;5;124mProcessing room \u001b[39m\u001b[38;5;132;01m{\u001b[39;00mroom\u001b[38;5;132;01m}\u001b[39;00m\u001b[38;5;124m\"\u001b[39m)\n",
      "File \u001b[0;32m/scratch/ci411/.conda/envs/dcase_env/lib/python3.8/site-packages/mat73/__init__.py:294\u001b[0m, in \u001b[0;36mloadmat\u001b[0;34m(filename, use_attrdict, only_include, verbose)\u001b[0m\n\u001b[1;32m    292\u001b[0m \u001b[38;5;28;01mtry\u001b[39;00m:\n\u001b[1;32m    293\u001b[0m     \u001b[38;5;28;01mwith\u001b[39;00m h5py\u001b[38;5;241m.\u001b[39mFile(filename, \u001b[38;5;124m'\u001b[39m\u001b[38;5;124mr\u001b[39m\u001b[38;5;124m'\u001b[39m) \u001b[38;5;28;01mas\u001b[39;00m hdf5:\n\u001b[0;32m--> 294\u001b[0m         dictionary \u001b[38;5;241m=\u001b[39m \u001b[43mdecoder\u001b[49m\u001b[38;5;241;43m.\u001b[39;49m\u001b[43mmat2dict\u001b[49m\u001b[43m(\u001b[49m\u001b[43mhdf5\u001b[49m\u001b[43m)\u001b[49m\n\u001b[1;32m    295\u001b[0m     \u001b[38;5;28;01mreturn\u001b[39;00m dictionary\n\u001b[1;32m    296\u001b[0m \u001b[38;5;28;01mexcept\u001b[39;00m \u001b[38;5;167;01mOSError\u001b[39;00m:\n",
      "File \u001b[0;32m/scratch/ci411/.conda/envs/dcase_env/lib/python3.8/site-packages/mat73/__init__.py:90\u001b[0m, in \u001b[0;36mHDF5Decoder.mat2dict\u001b[0;34m(self, hdf5)\u001b[0m\n\u001b[1;32m     88\u001b[0m     \u001b[38;5;28;01mif\u001b[39;00m \u001b[38;5;129;01mnot\u001b[39;00m \u001b[38;5;28mself\u001b[39m\u001b[38;5;241m.\u001b[39mis_included(hdf5[var]):\n\u001b[1;32m     89\u001b[0m         \u001b[38;5;28;01mcontinue\u001b[39;00m\n\u001b[0;32m---> 90\u001b[0m     d[var] \u001b[38;5;241m=\u001b[39m \u001b[38;5;28;43mself\u001b[39;49m\u001b[38;5;241;43m.\u001b[39;49m\u001b[43munpack_mat\u001b[49m\u001b[43m(\u001b[49m\u001b[43mhdf5\u001b[49m\u001b[43m[\u001b[49m\u001b[43mvar\u001b[49m\u001b[43m]\u001b[49m\u001b[43m)\u001b[49m\n\u001b[1;32m     92\u001b[0m \u001b[38;5;28;01mif\u001b[39;00m \u001b[38;5;28mself\u001b[39m\u001b[38;5;241m.\u001b[39monly_include \u001b[38;5;129;01mis\u001b[39;00m \u001b[38;5;129;01mnot\u001b[39;00m \u001b[38;5;28;01mNone\u001b[39;00m:\n\u001b[1;32m     93\u001b[0m     \u001b[38;5;28;01mfor\u001b[39;00m var, found \u001b[38;5;129;01min\u001b[39;00m \u001b[38;5;28mself\u001b[39m\u001b[38;5;241m.\u001b[39m_found_include_var\u001b[38;5;241m.\u001b[39mitems():\n",
      "File \u001b[0;32m/scratch/ci411/.conda/envs/dcase_env/lib/python3.8/site-packages/mat73/__init__.py:123\u001b[0m, in \u001b[0;36mHDF5Decoder.unpack_mat\u001b[0;34m(self, hdf5, depth, MATLAB_class)\u001b[0m\n\u001b[1;32m    121\u001b[0m     \u001b[38;5;28;01mif\u001b[39;00m MATLAB_class \u001b[38;5;129;01mis\u001b[39;00m \u001b[38;5;129;01mnot\u001b[39;00m \u001b[38;5;28;01mNone\u001b[39;00m: \n\u001b[1;32m    122\u001b[0m         MATLAB_class \u001b[38;5;241m=\u001b[39m MATLAB_class\u001b[38;5;241m.\u001b[39mdecode()\n\u001b[0;32m--> 123\u001b[0m unpacked \u001b[38;5;241m=\u001b[39m \u001b[38;5;28;43mself\u001b[39;49m\u001b[38;5;241;43m.\u001b[39;49m\u001b[43munpack_mat\u001b[49m\u001b[43m(\u001b[49m\u001b[43melem\u001b[49m\u001b[43m,\u001b[49m\u001b[43m \u001b[49m\u001b[43mdepth\u001b[49m\u001b[38;5;241;43m=\u001b[39;49m\u001b[43mdepth\u001b[49m\u001b[38;5;241;43m+\u001b[39;49m\u001b[38;5;241;43m1\u001b[39;49m\u001b[43m,\u001b[49m\u001b[43m \u001b[49m\n\u001b[1;32m    124\u001b[0m \u001b[43m                           \u001b[49m\u001b[43mMATLAB_class\u001b[49m\u001b[38;5;241;43m=\u001b[39;49m\u001b[43mMATLAB_class\u001b[49m\u001b[43m)\u001b[49m\n\u001b[1;32m    125\u001b[0m \u001b[38;5;28;01mif\u001b[39;00m MATLAB_class\u001b[38;5;241m==\u001b[39m\u001b[38;5;124m'\u001b[39m\u001b[38;5;124mstruct\u001b[39m\u001b[38;5;124m'\u001b[39m \u001b[38;5;129;01mand\u001b[39;00m \u001b[38;5;28mlen\u001b[39m(elem)\u001b[38;5;241m>\u001b[39m\u001b[38;5;241m1\u001b[39m \u001b[38;5;129;01mand\u001b[39;00m \\\n\u001b[1;32m    126\u001b[0m \u001b[38;5;28misinstance\u001b[39m(unpacked, \u001b[38;5;28mdict\u001b[39m):\n\u001b[1;32m    127\u001b[0m     values \u001b[38;5;241m=\u001b[39m unpacked\u001b[38;5;241m.\u001b[39mvalues()\n",
      "File \u001b[0;32m/scratch/ci411/.conda/envs/dcase_env/lib/python3.8/site-packages/mat73/__init__.py:155\u001b[0m, in \u001b[0;36mHDF5Decoder.unpack_mat\u001b[0;34m(self, hdf5, depth, MATLAB_class)\u001b[0m\n\u001b[1;32m    153\u001b[0m \u001b[38;5;28;01melif\u001b[39;00m \u001b[38;5;28misinstance\u001b[39m(hdf5, h5py\u001b[38;5;241m.\u001b[39m_hl\u001b[38;5;241m.\u001b[39mdataset\u001b[38;5;241m.\u001b[39mDataset):\n\u001b[1;32m    154\u001b[0m     \u001b[38;5;28;01mif\u001b[39;00m  \u001b[38;5;28mself\u001b[39m\u001b[38;5;241m.\u001b[39mis_included(hdf5):\n\u001b[0;32m--> 155\u001b[0m         \u001b[38;5;28;01mreturn\u001b[39;00m \u001b[38;5;28;43mself\u001b[39;49m\u001b[38;5;241;43m.\u001b[39;49m\u001b[43mconvert_mat\u001b[49m\u001b[43m(\u001b[49m\u001b[43mhdf5\u001b[49m\u001b[43m,\u001b[49m\u001b[43m \u001b[49m\u001b[43mdepth\u001b[49m\u001b[43m,\u001b[49m\u001b[43m \u001b[49m\u001b[43mMATLAB_class\u001b[49m\u001b[38;5;241;43m=\u001b[39;49m\u001b[43mMATLAB_class\u001b[49m\u001b[43m)\u001b[49m\n\u001b[1;32m    156\u001b[0m \u001b[38;5;28;01melse\u001b[39;00m:\n\u001b[1;32m    157\u001b[0m     \u001b[38;5;28;01mraise\u001b[39;00m \u001b[38;5;167;01mException\u001b[39;00m(\u001b[38;5;124mf\u001b[39m\u001b[38;5;124m'\u001b[39m\u001b[38;5;124mUnknown hdf5 type: \u001b[39m\u001b[38;5;132;01m{\u001b[39;00mkey\u001b[38;5;132;01m}\u001b[39;00m\u001b[38;5;124m:\u001b[39m\u001b[38;5;132;01m{\u001b[39;00m\u001b[38;5;28mtype\u001b[39m(hdf5)\u001b[38;5;132;01m}\u001b[39;00m\u001b[38;5;124m'\u001b[39m)\n",
      "File \u001b[0;32m/scratch/ci411/.conda/envs/dcase_env/lib/python3.8/site-packages/mat73/__init__.py:209\u001b[0m, in \u001b[0;36mHDF5Decoder.convert_mat\u001b[0;34m(self, dataset, depth, MATLAB_class)\u001b[0m\n\u001b[1;32m    207\u001b[0m \u001b[38;5;28;01mif\u001b[39;00m \u001b[38;5;28misinstance\u001b[39m(ref, Iterable):\n\u001b[1;32m    208\u001b[0m     \u001b[38;5;28;01mfor\u001b[39;00m r \u001b[38;5;129;01min\u001b[39;00m ref:\n\u001b[0;32m--> 209\u001b[0m         entry \u001b[38;5;241m=\u001b[39m \u001b[38;5;28;43mself\u001b[39;49m\u001b[38;5;241;43m.\u001b[39;49m\u001b[43munpack_mat\u001b[49m\u001b[43m(\u001b[49m\u001b[38;5;28;43mself\u001b[39;49m\u001b[38;5;241;43m.\u001b[39;49m\u001b[43mrefs\u001b[49m\u001b[38;5;241;43m.\u001b[39;49m\u001b[43mget\u001b[49m\u001b[43m(\u001b[49m\u001b[43mr\u001b[49m\u001b[43m)\u001b[49m\u001b[43m,\u001b[49m\u001b[43m \u001b[49m\u001b[43mdepth\u001b[49m\u001b[38;5;241;43m+\u001b[39;49m\u001b[38;5;241;43m1\u001b[39;49m\u001b[43m)\u001b[49m\n\u001b[1;32m    210\u001b[0m         row\u001b[38;5;241m.\u001b[39mappend(entry)\n\u001b[1;32m    211\u001b[0m \u001b[38;5;28;01melse\u001b[39;00m:\n",
      "File \u001b[0;32m/scratch/ci411/.conda/envs/dcase_env/lib/python3.8/site-packages/mat73/__init__.py:155\u001b[0m, in \u001b[0;36mHDF5Decoder.unpack_mat\u001b[0;34m(self, hdf5, depth, MATLAB_class)\u001b[0m\n\u001b[1;32m    153\u001b[0m \u001b[38;5;28;01melif\u001b[39;00m \u001b[38;5;28misinstance\u001b[39m(hdf5, h5py\u001b[38;5;241m.\u001b[39m_hl\u001b[38;5;241m.\u001b[39mdataset\u001b[38;5;241m.\u001b[39mDataset):\n\u001b[1;32m    154\u001b[0m     \u001b[38;5;28;01mif\u001b[39;00m  \u001b[38;5;28mself\u001b[39m\u001b[38;5;241m.\u001b[39mis_included(hdf5):\n\u001b[0;32m--> 155\u001b[0m         \u001b[38;5;28;01mreturn\u001b[39;00m \u001b[38;5;28;43mself\u001b[39;49m\u001b[38;5;241;43m.\u001b[39;49m\u001b[43mconvert_mat\u001b[49m\u001b[43m(\u001b[49m\u001b[43mhdf5\u001b[49m\u001b[43m,\u001b[49m\u001b[43m \u001b[49m\u001b[43mdepth\u001b[49m\u001b[43m,\u001b[49m\u001b[43m \u001b[49m\u001b[43mMATLAB_class\u001b[49m\u001b[38;5;241;43m=\u001b[39;49m\u001b[43mMATLAB_class\u001b[49m\u001b[43m)\u001b[49m\n\u001b[1;32m    156\u001b[0m \u001b[38;5;28;01melse\u001b[39;00m:\n\u001b[1;32m    157\u001b[0m     \u001b[38;5;28;01mraise\u001b[39;00m \u001b[38;5;167;01mException\u001b[39;00m(\u001b[38;5;124mf\u001b[39m\u001b[38;5;124m'\u001b[39m\u001b[38;5;124mUnknown hdf5 type: \u001b[39m\u001b[38;5;132;01m{\u001b[39;00mkey\u001b[38;5;132;01m}\u001b[39;00m\u001b[38;5;124m:\u001b[39m\u001b[38;5;132;01m{\u001b[39;00m\u001b[38;5;28mtype\u001b[39m(hdf5)\u001b[38;5;132;01m}\u001b[39;00m\u001b[38;5;124m'\u001b[39m)\n",
      "File \u001b[0;32m/scratch/ci411/.conda/envs/dcase_env/lib/python3.8/site-packages/mat73/__init__.py:253\u001b[0m, in \u001b[0;36mHDF5Decoder.convert_mat\u001b[0;34m(self, dataset, depth, MATLAB_class)\u001b[0m\n\u001b[1;32m    250\u001b[0m \u001b[38;5;66;03m# if it is none of the above, we can convert to numpy array\u001b[39;00m\n\u001b[1;32m    251\u001b[0m \u001b[38;5;28;01melif\u001b[39;00m mtype \u001b[38;5;129;01min\u001b[39;00m (\u001b[38;5;124m'\u001b[39m\u001b[38;5;124mdouble\u001b[39m\u001b[38;5;124m'\u001b[39m, \u001b[38;5;124m'\u001b[39m\u001b[38;5;124msingle\u001b[39m\u001b[38;5;124m'\u001b[39m, \u001b[38;5;124m'\u001b[39m\u001b[38;5;124mint8\u001b[39m\u001b[38;5;124m'\u001b[39m, \u001b[38;5;124m'\u001b[39m\u001b[38;5;124mint16\u001b[39m\u001b[38;5;124m'\u001b[39m, \u001b[38;5;124m'\u001b[39m\u001b[38;5;124mint32\u001b[39m\u001b[38;5;124m'\u001b[39m, \u001b[38;5;124m'\u001b[39m\u001b[38;5;124mint64\u001b[39m\u001b[38;5;124m'\u001b[39m, \n\u001b[1;32m    252\u001b[0m                \u001b[38;5;124m'\u001b[39m\u001b[38;5;124muint8\u001b[39m\u001b[38;5;124m'\u001b[39m, \u001b[38;5;124m'\u001b[39m\u001b[38;5;124muint16\u001b[39m\u001b[38;5;124m'\u001b[39m, \u001b[38;5;124m'\u001b[39m\u001b[38;5;124muint32\u001b[39m\u001b[38;5;124m'\u001b[39m, \u001b[38;5;124m'\u001b[39m\u001b[38;5;124muint64\u001b[39m\u001b[38;5;124m'\u001b[39m):\n\u001b[0;32m--> 253\u001b[0m     arr \u001b[38;5;241m=\u001b[39m \u001b[43mnp\u001b[49m\u001b[38;5;241;43m.\u001b[39;49m\u001b[43marray\u001b[49m\u001b[43m(\u001b[49m\u001b[43mdataset\u001b[49m\u001b[43m,\u001b[49m\u001b[43m \u001b[49m\u001b[43mdtype\u001b[49m\u001b[38;5;241;43m=\u001b[39;49m\u001b[43mdataset\u001b[49m\u001b[38;5;241;43m.\u001b[39;49m\u001b[43mdtype\u001b[49m\u001b[43m)\u001b[49m\n\u001b[1;32m    254\u001b[0m     \u001b[38;5;28;01mreturn\u001b[39;00m arr\u001b[38;5;241m.\u001b[39mT\u001b[38;5;241m.\u001b[39msqueeze()\n\u001b[1;32m    255\u001b[0m \u001b[38;5;28;01melif\u001b[39;00m mtype\u001b[38;5;241m==\u001b[39m\u001b[38;5;124m'\u001b[39m\u001b[38;5;124mmissing\u001b[39m\u001b[38;5;124m'\u001b[39m:\n",
      "File \u001b[0;32mh5py/_objects.pyx:54\u001b[0m, in \u001b[0;36mh5py._objects.with_phil.wrapper\u001b[0;34m()\u001b[0m\n",
      "File \u001b[0;32mh5py/_objects.pyx:55\u001b[0m, in \u001b[0;36mh5py._objects.with_phil.wrapper\u001b[0;34m()\u001b[0m\n",
      "File \u001b[0;32m/scratch/ci411/.conda/envs/dcase_env/lib/python3.8/site-packages/h5py/_hl/dataset.py:1046\u001b[0m, in \u001b[0;36mDataset.__array__\u001b[0;34m(self, dtype)\u001b[0m\n\u001b[1;32m   1043\u001b[0m \u001b[38;5;28;01mif\u001b[39;00m numpy\u001b[38;5;241m.\u001b[39mproduct(\u001b[38;5;28mself\u001b[39m\u001b[38;5;241m.\u001b[39mshape, dtype\u001b[38;5;241m=\u001b[39mnumpy\u001b[38;5;241m.\u001b[39mulonglong) \u001b[38;5;241m==\u001b[39m \u001b[38;5;241m0\u001b[39m:\n\u001b[1;32m   1044\u001b[0m     \u001b[38;5;28;01mreturn\u001b[39;00m arr\n\u001b[0;32m-> 1046\u001b[0m \u001b[38;5;28;43mself\u001b[39;49m\u001b[38;5;241;43m.\u001b[39;49m\u001b[43mread_direct\u001b[49m\u001b[43m(\u001b[49m\u001b[43marr\u001b[49m\u001b[43m)\u001b[49m\n\u001b[1;32m   1047\u001b[0m \u001b[38;5;28;01mreturn\u001b[39;00m arr\n",
      "File \u001b[0;32m/scratch/ci411/.conda/envs/dcase_env/lib/python3.8/site-packages/h5py/_hl/dataset.py:1007\u001b[0m, in \u001b[0;36mDataset.read_direct\u001b[0;34m(self, dest, source_sel, dest_sel)\u001b[0m\n\u001b[1;32m   1004\u001b[0m     dest_sel \u001b[38;5;241m=\u001b[39m sel\u001b[38;5;241m.\u001b[39mselect(dest\u001b[38;5;241m.\u001b[39mshape, dest_sel)\n\u001b[1;32m   1006\u001b[0m \u001b[38;5;28;01mfor\u001b[39;00m mspace \u001b[38;5;129;01min\u001b[39;00m dest_sel\u001b[38;5;241m.\u001b[39mbroadcast(source_sel\u001b[38;5;241m.\u001b[39marray_shape):\n\u001b[0;32m-> 1007\u001b[0m     \u001b[38;5;28;43mself\u001b[39;49m\u001b[38;5;241;43m.\u001b[39;49m\u001b[43mid\u001b[49m\u001b[38;5;241;43m.\u001b[39;49m\u001b[43mread\u001b[49m\u001b[43m(\u001b[49m\u001b[43mmspace\u001b[49m\u001b[43m,\u001b[49m\u001b[43m \u001b[49m\u001b[43mfspace\u001b[49m\u001b[43m,\u001b[49m\u001b[43m \u001b[49m\u001b[43mdest\u001b[49m\u001b[43m,\u001b[49m\u001b[43m \u001b[49m\u001b[43mdxpl\u001b[49m\u001b[38;5;241;43m=\u001b[39;49m\u001b[38;5;28;43mself\u001b[39;49m\u001b[38;5;241;43m.\u001b[39;49m\u001b[43m_dxpl\u001b[49m\u001b[43m)\u001b[49m\n",
      "\u001b[0;31mKeyboardInterrupt\u001b[0m: "
     ]
    }
   ],
   "source": [
    "tau_rir_path = '/scratch/ci411/TAU_SRIR_DB/TAU-SRIR_DB/'\n",
    "tau_rir_outpath = '/scratch/ci411/DCASE_GEN/tau_srir'\n",
    "\n",
    "tau_files = glob.glob(os.path.join(tau_rir_path, 'rirs*'))\n",
    "tau_files.sort()\n",
    "sr = 24000\n",
    "\n",
    "for room_idx, tau_file in enumerate(tau_files):\n",
    "    print(f\"Loading from {tau_file}\")\n",
    "    rirs_loaded = mat73.loadmat(tau_file)\n",
    "    room = room_list[room_idx]\n",
    "    print(f\"Processing room {room}\")\n",
    "    for aud_format in ['mic', 'foa']:\n",
    "        rirs = rirs_loaded['rirs'][aud_format]\n",
    "        print(f\"Storing results in {out_dirs}\")\n",
    "        out_dirs = os.path.join(tau_rir_outpath, room, aud_format)         \n",
    "        if not os.path.exists(out_dirs):\n",
    "            os.makedirs(out_dirs)\n",
    "        for traj_idx in range(len(rirs)):\n",
    "            for h_idx in range(len(rirs[0])):\n",
    "                rir_array = rirs[traj_idx][h_idx]\n",
    "                rir_array = np.moveaxis(rir_array, [0,1,2],[1,2,0])\n",
    "                \n",
    "                for i, rir in enumerate(rir_array):\n",
    "                    filename = f\"{room}_t{traj_idx}h{h_idx}i{i:03}.wav\"\n",
    "                    rir_outpath = os.path.join(tau_rir_outpath, room, aud_format, filename)\n",
    "                    #sf.write(rir_outpath, rir, sr)"
   ]
  },
  {
   "cell_type": "code",
   "execution_count": 7,
   "id": "091b5185-3251-4c7d-aaf4-72eb0bbfb435",
   "metadata": {},
   "outputs": [],
   "source": [
    "test_tau_file = '/scratch/ci411/TAU_SRIR_DB/TAU-SRIR_DB/rirs_01_bomb_shelter.mat'\n",
    "rirs_loaded = mat73.loadmat(tau_file)['rirs']['mic']\n"
   ]
  },
  {
   "cell_type": "code",
   "execution_count": 12,
   "id": "15cf334f-4037-4484-8f54-8e5ef03a5eeb",
   "metadata": {},
   "outputs": [
    {
     "data": {
      "text/plain": [
       "(7200, 4, 360)"
      ]
     },
     "execution_count": 12,
     "metadata": {},
     "output_type": "execute_result"
    }
   ],
   "source": [
    "rirs_loaded[0][0].shape"
   ]
  },
  {
   "cell_type": "code",
   "execution_count": null,
   "id": "88b006b8-f8c7-4a53-9ae5-2b3d59e1eb29",
   "metadata": {},
   "outputs": [],
   "source": []
  }
 ],
 "metadata": {
  "kernelspec": {
   "display_name": "dcase_envk",
   "language": "python",
   "name": "dcase_envk"
  },
  "language_info": {
   "codemirror_mode": {
    "name": "ipython",
    "version": 3
   },
   "file_extension": ".py",
   "mimetype": "text/x-python",
   "name": "python",
   "nbconvert_exporter": "python",
   "pygments_lexer": "ipython3",
   "version": "3.8.13"
  }
 },
 "nbformat": 4,
 "nbformat_minor": 5
}
